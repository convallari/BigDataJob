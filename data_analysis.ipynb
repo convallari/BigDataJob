{
 "cells": [
  {
   "cell_type": "code",
   "execution_count": 2,
   "id": "7460b66cdc1b0cb0",
   "metadata": {
    "ExecuteTime": {
     "end_time": "2024-12-10T07:01:11.504752Z",
     "start_time": "2024-12-10T07:01:10.991753Z"
    }
   },
   "outputs": [],
   "source": [
    "import pandas as pd\n",
    "data = pd.read_excel('job_bigData.xlsx')"
   ]
  },
  {
   "cell_type": "code",
   "execution_count": 3,
   "id": "5eccea0c-df6c-4f14-8e5d-59ebd6713254",
   "metadata": {},
   "outputs": [
    {
     "data": {
      "text/html": [
       "<div>\n",
       "<style scoped>\n",
       "    .dataframe tbody tr th:only-of-type {\n",
       "        vertical-align: middle;\n",
       "    }\n",
       "\n",
       "    .dataframe tbody tr th {\n",
       "        vertical-align: top;\n",
       "    }\n",
       "\n",
       "    .dataframe thead th {\n",
       "        text-align: right;\n",
       "    }\n",
       "</style>\n",
       "<table border=\"1\" class=\"dataframe\">\n",
       "  <thead>\n",
       "    <tr style=\"text-align: right;\">\n",
       "      <th></th>\n",
       "      <th>城市</th>\n",
       "      <th>公司名称</th>\n",
       "      <th>学历要求</th>\n",
       "      <th>工作经验</th>\n",
       "      <th>招聘岗位</th>\n",
       "      <th>薪资待遇</th>\n",
       "      <th>职位描述</th>\n",
       "    </tr>\n",
       "  </thead>\n",
       "  <tbody>\n",
       "    <tr>\n",
       "      <th>0</th>\n",
       "      <td>上海市</td>\n",
       "      <td>神州通誉软件上海股份有限公司</td>\n",
       "      <td>本科</td>\n",
       "      <td>10年以上</td>\n",
       "      <td>大数据开发组长</td>\n",
       "      <td>24000-27000元/月</td>\n",
       "      <td>任职要求：\\t\\n1、计算机相关专业全日制本科及以上学历，8年及以上数据类(数仓、BI可视化...</td>\n",
       "    </tr>\n",
       "    <tr>\n",
       "      <th>1</th>\n",
       "      <td>上海市</td>\n",
       "      <td>上海人工智能网络系统工程技术研究中心有限公司</td>\n",
       "      <td>本科</td>\n",
       "      <td>5-10年</td>\n",
       "      <td>大数据运维工程师</td>\n",
       "      <td>20000-35000元/月</td>\n",
       "      <td>工作职责：\\n1.负责 Nebula 和 Doris 集群的部署、升级、监控、维护和优化工作...</td>\n",
       "    </tr>\n",
       "    <tr>\n",
       "      <th>2</th>\n",
       "      <td>上海市</td>\n",
       "      <td>上海墨绿科技有限公司</td>\n",
       "      <td>大专</td>\n",
       "      <td>不限</td>\n",
       "      <td>大数据专员</td>\n",
       "      <td>3000-5000元/月</td>\n",
       "      <td>专业处理数据，需要计算机专业，</td>\n",
       "    </tr>\n",
       "    <tr>\n",
       "      <th>3</th>\n",
       "      <td>上海市</td>\n",
       "      <td>河南信大网御科技有限公司</td>\n",
       "      <td>本科</td>\n",
       "      <td>3-5年</td>\n",
       "      <td>高级大数据开发工程师</td>\n",
       "      <td>16000-22000元/月</td>\n",
       "      <td>职责描述：\\n1、负责运营商B/O/M域的数据分析、挖掘、建模等工作，如城市常住人口、人流量...</td>\n",
       "    </tr>\n",
       "    <tr>\n",
       "      <th>4</th>\n",
       "      <td>上海市</td>\n",
       "      <td>上海数禾信息科技有限公司</td>\n",
       "      <td>本科</td>\n",
       "      <td>5-10年</td>\n",
       "      <td>大数据平台开发专家</td>\n",
       "      <td>40000-70000元/月</td>\n",
       "      <td>岗位职责:\\n1、参与大数据体系技术选型、架构设计，根据业务场景提供最优的解决方案；\\n2、...</td>\n",
       "    </tr>\n",
       "  </tbody>\n",
       "</table>\n",
       "</div>"
      ],
      "text/plain": [
       "    城市                    公司名称 学历要求   工作经验        招聘岗位            薪资待遇  \\\n",
       "0  上海市          神州通誉软件上海股份有限公司   本科  10年以上     大数据开发组长  24000-27000元/月   \n",
       "1  上海市  上海人工智能网络系统工程技术研究中心有限公司   本科  5-10年    大数据运维工程师  20000-35000元/月   \n",
       "2  上海市              上海墨绿科技有限公司   大专     不限       大数据专员    3000-5000元/月   \n",
       "3  上海市            河南信大网御科技有限公司   本科   3-5年  高级大数据开发工程师  16000-22000元/月   \n",
       "4  上海市            上海数禾信息科技有限公司   本科  5-10年   大数据平台开发专家  40000-70000元/月   \n",
       "\n",
       "                                                职位描述  \n",
       "0  任职要求：\\t\\n1、计算机相关专业全日制本科及以上学历，8年及以上数据类(数仓、BI可视化...  \n",
       "1  工作职责：\\n1.负责 Nebula 和 Doris 集群的部署、升级、监控、维护和优化工作...  \n",
       "2                                    专业处理数据，需要计算机专业，  \n",
       "3  职责描述：\\n1、负责运营商B/O/M域的数据分析、挖掘、建模等工作，如城市常住人口、人流量...  \n",
       "4  岗位职责:\\n1、参与大数据体系技术选型、架构设计，根据业务场景提供最优的解决方案；\\n2、...  "
      ]
     },
     "execution_count": 3,
     "metadata": {},
     "output_type": "execute_result"
    }
   ],
   "source": [
    "data.head()"
   ]
  },
  {
   "cell_type": "code",
   "execution_count": 4,
   "id": "bf52c9aa-4b27-45d2-8ac5-bf1dfb9a7d77",
   "metadata": {
    "ExecuteTime": {
     "end_time": "2024-12-10T07:02:00.063760Z",
     "start_time": "2024-12-10T07:02:00.059211Z"
    }
   },
   "outputs": [
    {
     "name": "stdout",
     "output_type": "stream",
     "text": [
      "331\n",
      "城市      331\n",
      "公司名称    331\n",
      "学历要求    331\n",
      "工作经验    330\n",
      "招聘岗位    331\n",
      "薪资待遇    331\n",
      "职位描述    306\n",
      "dtype: int64\n"
     ]
    }
   ],
   "source": [
    "print(len(data))\n",
    "print(data.count())"
   ]
  },
  {
   "cell_type": "code",
   "execution_count": 5,
   "id": "b7ac1298fff410e0",
   "metadata": {},
   "outputs": [
    {
     "name": "stdout",
     "output_type": "stream",
     "text": [
      "城市       0\n",
      "公司名称     0\n",
      "学历要求     0\n",
      "工作经验     1\n",
      "招聘岗位     0\n",
      "薪资待遇     0\n",
      "职位描述    25\n",
      "dtype: int64\n"
     ]
    }
   ],
   "source": [
    "# 查看数据缺失值\n",
    "print(data.isnull().sum())"
   ]
  },
  {
   "cell_type": "code",
   "execution_count": 6,
   "id": "5ffc79766ef7aee3",
   "metadata": {},
   "outputs": [
    {
     "name": "stdout",
     "output_type": "stream",
     "text": [
      "     城市            公司名称 学历要求 工作经验     招聘岗位          薪资待遇  \\\n",
      "66  上海市  上海爱克丝互联网科技有限公司   本科  NaN  大数据分析助理  5000-7000元/月   \n",
      "\n",
      "                                       职位描述  \n",
      "66  计算机软件统计学理工科相关专业，计算机有软件基础等，工作能力强，工作态度良好，  \n"
     ]
    }
   ],
   "source": [
    "# 查看缺失数据\n",
    "print(data[data['工作经验'].isnull()])"
   ]
  },
  {
   "cell_type": "code",
   "execution_count": 7,
   "id": "f91b8501da9b47a9",
   "metadata": {},
   "outputs": [
    {
     "name": "stdout",
     "output_type": "stream",
     "text": [
      "学历要求\n",
      "本科    286\n",
      "不限     18\n",
      "硕士     14\n",
      "大专     12\n",
      "博士      1\n",
      "Name: count, dtype: int64\n",
      "工作经验\n",
      "5-10年    117\n",
      "3-5年      99\n",
      "不限        61\n",
      "1-3年      44\n",
      "10年以上      9\n",
      "Name: count, dtype: int64\n",
      "薪资待遇\n",
      "30000-60000元/月    38\n",
      "20000-40000元/月    22\n",
      "15000-20000元/月    17\n",
      "40000-70000元/月    16\n",
      "25000-50000元/月    15\n",
      "                  ..\n",
      "40000-55000元/月     1\n",
      "50000-60000元/月     1\n",
      "60000-90000元/月     1\n",
      "28000-55000元/月     1\n",
      "28000-40000元/月     1\n",
      "Name: count, Length: 96, dtype: int64\n"
     ]
    }
   ],
   "source": [
    "# 统计\n",
    "print(data['学历要求'].value_counts())\n",
    "print(data['工作经验'].value_counts())\n",
    "print(data['薪资待遇'].value_counts())\n"
   ]
  },
  {
   "cell_type": "code",
   "execution_count": 8,
   "id": "bf7e7540-8cc2-4f9c-99ae-172342a8cc94",
   "metadata": {},
   "outputs": [
    {
     "data": {
      "text/html": [
       "<div>\n",
       "<style scoped>\n",
       "    .dataframe tbody tr th:only-of-type {\n",
       "        vertical-align: middle;\n",
       "    }\n",
       "\n",
       "    .dataframe tbody tr th {\n",
       "        vertical-align: top;\n",
       "    }\n",
       "\n",
       "    .dataframe thead th {\n",
       "        text-align: right;\n",
       "    }\n",
       "</style>\n",
       "<table border=\"1\" class=\"dataframe\">\n",
       "  <thead>\n",
       "    <tr style=\"text-align: right;\">\n",
       "      <th></th>\n",
       "      <th>城市</th>\n",
       "      <th>公司名称</th>\n",
       "      <th>学历要求</th>\n",
       "      <th>工作经验</th>\n",
       "      <th>招聘岗位</th>\n",
       "      <th>薪资待遇</th>\n",
       "      <th>职位描述</th>\n",
       "      <th>薪资下限</th>\n",
       "      <th>薪资上限</th>\n",
       "    </tr>\n",
       "  </thead>\n",
       "  <tbody>\n",
       "    <tr>\n",
       "      <th>0</th>\n",
       "      <td>上海市</td>\n",
       "      <td>神州通誉软件上海股份有限公司</td>\n",
       "      <td>本科</td>\n",
       "      <td>10年以上</td>\n",
       "      <td>大数据开发组长</td>\n",
       "      <td>24000-27000元/月</td>\n",
       "      <td>任职要求：\\t\\n1、计算机相关专业全日制本科及以上学历，8年及以上数据类(数仓、BI可视化...</td>\n",
       "      <td>24000</td>\n",
       "      <td>27000</td>\n",
       "    </tr>\n",
       "    <tr>\n",
       "      <th>1</th>\n",
       "      <td>上海市</td>\n",
       "      <td>上海人工智能网络系统工程技术研究中心有限公司</td>\n",
       "      <td>本科</td>\n",
       "      <td>5-10年</td>\n",
       "      <td>大数据运维工程师</td>\n",
       "      <td>20000-35000元/月</td>\n",
       "      <td>工作职责：\\n1.负责 Nebula 和 Doris 集群的部署、升级、监控、维护和优化工作...</td>\n",
       "      <td>20000</td>\n",
       "      <td>35000</td>\n",
       "    </tr>\n",
       "    <tr>\n",
       "      <th>2</th>\n",
       "      <td>上海市</td>\n",
       "      <td>上海墨绿科技有限公司</td>\n",
       "      <td>大专</td>\n",
       "      <td>不限</td>\n",
       "      <td>大数据专员</td>\n",
       "      <td>3000-5000元/月</td>\n",
       "      <td>专业处理数据，需要计算机专业，</td>\n",
       "      <td>3000</td>\n",
       "      <td>5000</td>\n",
       "    </tr>\n",
       "    <tr>\n",
       "      <th>3</th>\n",
       "      <td>上海市</td>\n",
       "      <td>河南信大网御科技有限公司</td>\n",
       "      <td>本科</td>\n",
       "      <td>3-5年</td>\n",
       "      <td>高级大数据开发工程师</td>\n",
       "      <td>16000-22000元/月</td>\n",
       "      <td>职责描述：\\n1、负责运营商B/O/M域的数据分析、挖掘、建模等工作，如城市常住人口、人流量...</td>\n",
       "      <td>16000</td>\n",
       "      <td>22000</td>\n",
       "    </tr>\n",
       "    <tr>\n",
       "      <th>4</th>\n",
       "      <td>上海市</td>\n",
       "      <td>上海数禾信息科技有限公司</td>\n",
       "      <td>本科</td>\n",
       "      <td>5-10年</td>\n",
       "      <td>大数据平台开发专家</td>\n",
       "      <td>40000-70000元/月</td>\n",
       "      <td>岗位职责:\\n1、参与大数据体系技术选型、架构设计，根据业务场景提供最优的解决方案；\\n2、...</td>\n",
       "      <td>40000</td>\n",
       "      <td>70000</td>\n",
       "    </tr>\n",
       "  </tbody>\n",
       "</table>\n",
       "</div>"
      ],
      "text/plain": [
       "    城市                    公司名称 学历要求   工作经验        招聘岗位            薪资待遇  \\\n",
       "0  上海市          神州通誉软件上海股份有限公司   本科  10年以上     大数据开发组长  24000-27000元/月   \n",
       "1  上海市  上海人工智能网络系统工程技术研究中心有限公司   本科  5-10年    大数据运维工程师  20000-35000元/月   \n",
       "2  上海市              上海墨绿科技有限公司   大专     不限       大数据专员    3000-5000元/月   \n",
       "3  上海市            河南信大网御科技有限公司   本科   3-5年  高级大数据开发工程师  16000-22000元/月   \n",
       "4  上海市            上海数禾信息科技有限公司   本科  5-10年   大数据平台开发专家  40000-70000元/月   \n",
       "\n",
       "                                                职位描述   薪资下限   薪资上限  \n",
       "0  任职要求：\\t\\n1、计算机相关专业全日制本科及以上学历，8年及以上数据类(数仓、BI可视化...  24000  27000  \n",
       "1  工作职责：\\n1.负责 Nebula 和 Doris 集群的部署、升级、监控、维护和优化工作...  20000  35000  \n",
       "2                                    专业处理数据，需要计算机专业，   3000   5000  \n",
       "3  职责描述：\\n1、负责运营商B/O/M域的数据分析、挖掘、建模等工作，如城市常住人口、人流量...  16000  22000  \n",
       "4  岗位职责:\\n1、参与大数据体系技术选型、架构设计，根据业务场景提供最优的解决方案；\\n2、...  40000  70000  "
      ]
     },
     "execution_count": 8,
     "metadata": {},
     "output_type": "execute_result"
    }
   ],
   "source": [
    "# 处理薪资待遇列\n",
    "data['薪资下限'] = data['薪资待遇'].str.extract(r'(\\d+)-(\\d+)').iloc[:, 0].astype(int)\n",
    "data['薪资上限'] = data['薪资待遇'].str.extract(r'(\\d+)-(\\d+)').iloc[:, 1].astype(int)\n",
    "data.head()"
   ]
  },
  {
   "cell_type": "code",
   "execution_count": 9,
   "id": "acca0a24-40c7-40fa-a4b8-b3a67762e8c0",
   "metadata": {},
   "outputs": [
    {
     "name": "stdout",
     "output_type": "stream",
     "text": [
      "count       331.000000\n",
      "mean      23825.226586\n",
      "std       12417.328051\n",
      "min         150.000000\n",
      "25%       15000.000000\n",
      "50%       20000.000000\n",
      "75%       30000.000000\n",
      "max      100000.000000\n",
      "Name: 薪资下限, dtype: float64\n",
      "count       331.000000\n",
      "mean      39320.845921\n",
      "std       19673.422016\n",
      "min         200.000000\n",
      "25%       25000.000000\n",
      "50%       35000.000000\n",
      "75%       57500.000000\n",
      "max      120000.000000\n",
      "Name: 薪资上限, dtype: float64\n"
     ]
    }
   ],
   "source": [
    "# 薪资下限描述统计\n",
    "print(data['薪资下限'].describe())\n",
    "# 薪资上限描述统计\n",
    "print(data['薪资上限'].describe())"
   ]
  },
  {
   "cell_type": "code",
   "execution_count": 13,
   "id": "a2443830-b632-4b3d-89de-a24e604d3779",
   "metadata": {},
   "outputs": [
    {
     "name": "stdout",
     "output_type": "stream",
     "text": [
      "      城市             公司名称 学历要求  工作经验            招聘岗位          薪资待遇  \\\n",
      "266  上海市  上海达学信息科技工作室个人独资   本科  3-5年  大数据开发工程师（远程办公）    150-200元/月   \n",
      "44   上海市   上海成凯生物医药科技有限公司   不限  1-3年          大数据工程师  2000-3000元/月   \n",
      "14   上海市   上海成凯生物医药科技有限公司   不限  1-3年          大数据工程师  2000-3000元/月   \n",
      "2    上海市       上海墨绿科技有限公司   大专    不限           大数据专员  3000-5000元/月   \n",
      "121  上海市       上海墨绿科技有限公司   大专    不限        大数据服务工程师  3000-5000元/月   \n",
      "\n",
      "                                                  职位描述  薪资下限  薪资上限  \n",
      "266  工作职责:\\n1、基于HIVE+SPARK进行数仓、集市开发，可根据需求分析完成数据仓库、数...   150   200  \n",
      "44   1 会深度学习，大模型\\n2 掌握Linux python R\\n3 在校大学生可实习\\n4...  2000  3000  \n",
      "14   1 会深度学习，大模型\\n2 掌握Linux python R\\n3 在校大学生可实习\\n4...  2000  3000  \n",
      "2                                      专业处理数据，需要计算机专业，  3000  5000  \n",
      "121  要求相关专业有一定相关专业基础，\\n工作内容\\n1、负责大数据的相关服务，确保数据处理的高效...  3000  5000  \n",
      "________________________________________\n",
      "      城市            公司名称 学历要求   工作经验                   招聘岗位              薪资待遇  \\\n",
      "222  上海市    上海夺畅网络技术有限公司   本科  10年以上           大数据及人工智能技术总监  100000-120000元/月   \n",
      "230  上海市    上海夺汇网络技术有限公司   本科  10年以上           大数据及人工智能技术总监   80000-110000元/月   \n",
      "225  上海市    上海夺畅网络技术有限公司   本科  10年以上           大数据及人工智能技术总监   75000-100000元/月   \n",
      "327  上海市  上海职骋企业管理咨询有限公司   硕士  5-10年  技术总监（计算框架/云原生大数据/大规模）    80000-95000元/月   \n",
      "173  上海市        华为技术有限公司   本科   3-5年              大数据开发（正编）    60000-90000元/月   \n",
      "\n",
      "                                                  职位描述    薪资下限    薪资上限  \n",
      "222  大数据及人工智能技术总监\\n工作职责：\\n\\t1.\\t负责制定和实施公司的大数据及人工智能技...  100000  120000  \n",
      "230  工作职责：\\n1.\\t负责制定和实施公司的大数据及人工智能技术战略和规划，确保技术团队在技术...   80000  110000  \n",
      "225  工作职责：\\t\\t\\n1、负责制定和实施公司的大数据及人工智能技术战略和规划，确保技术团队在...   75000  100000  \n",
      "327  职位描述：\\n1、基于Hadoop、Spark、Flink、Ray等开源数据组件，构建云原生...   80000   95000  \n",
      "173  岗位职责：\\n1.负责Spark、Hive、Hbase等大数据组件性能优化需求的详细设计和开...   60000   90000  \n"
     ]
    }
   ],
   "source": [
    "# 展示薪资下限最低的5个样本\n",
    "print(data.sort_values('薪资下限').head())\n",
    "print(\"________________________________________\")\n",
    "# 展示薪资上限最高的5个样本\n",
    "print(data.sort_values('薪资上限', ascending=False).head())"
   ]
  },
  {
   "cell_type": "code",
   "execution_count": 10,
   "id": "dd2f28f0-c8af-4c18-a51c-2af8f03af9ac",
   "metadata": {},
   "outputs": [],
   "source": [
    "# 删除工作经验缺失行\n",
    "data.dropna(subset=['工作经验'], inplace=True)\n",
    "# 删除\n",
    "# 写入\n",
    "data.to_csv('job_bigData_cleaned.csv', encoding='utf-8')"
   ]
  },
  {
   "cell_type": "code",
   "execution_count": null,
   "id": "f1457381-95e7-4ae3-a01d-fbde15002697",
   "metadata": {},
   "outputs": [],
   "source": []
  },
  {
   "cell_type": "code",
   "execution_count": null,
   "id": "e82be1be-ab6a-4c50-a8c0-15609ffefe63",
   "metadata": {},
   "outputs": [],
   "source": [
    "# 展示薪资下限最高的5行"
   ]
  }
 ],
 "metadata": {
  "kernelspec": {
   "display_name": "Python 3 (ipykernel)",
   "language": "python",
   "name": "python3"
  },
  "language_info": {
   "codemirror_mode": {
    "name": "ipython",
    "version": 3
   },
   "file_extension": ".py",
   "mimetype": "text/x-python",
   "name": "python",
   "nbconvert_exporter": "python",
   "pygments_lexer": "ipython3",
   "version": "3.9.19"
  }
 },
 "nbformat": 4,
 "nbformat_minor": 5
}
